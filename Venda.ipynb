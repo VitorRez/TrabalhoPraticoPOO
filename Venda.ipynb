{
 "cells": [
  {
   "cell_type": "code",
   "execution_count": null,
   "metadata": {},
   "outputs": [],
   "source": [
    "from cliente.py import cliente\n",
    "from produto.py import produto\n",
    "from Entidade.py import Entidade\n",
    "\n",
    "class Venda(Entidade):\n",
    "    def __init__ (self, Quantidade = 0, Total = 0, IdProduto = 0):\n",
    "        self.Quantidade = Quantidade\n",
    "        self.Total = Total\n",
    "        self.IdProduto = IdProduto\n",
    "\n",
    "    def Qtd_Prod(self, Quantidade):\n",
    "        self.Quantidade = Quantidade\n",
    "\n",
    "    def Total_Valor(self, Total):\n",
    "        self.Total = Total\n",
    "            \n",
    "    def Codigo(self, IdProduto):\n",
    "        self.IdProduto = IdProduto\n",
    "\n",
    "    def retorna_Codigo(self):\n",
    "        return self.IdProduto\n",
    "\n",
    "    def retorna_Quantidade(self):\n",
    "        return self.Quantidade\n",
    "\n",
    "    def retorna_Total(self):\n",
    "        return self.Total"
   ]
  }
 ],
 "metadata": {
  "kernelspec": {
   "display_name": "Python 3.10.4 64-bit",
   "language": "python",
   "name": "python3"
  },
  "language_info": {
   "name": "python",
   "version": "3.10.4"
  },
  "orig_nbformat": 4,
  "vscode": {
   "interpreter": {
    "hash": "916dbcbb3f70747c44a77c7bcd40155683ae19c65e1c03b4aa3499c5328201f1"
   }
  }
 },
 "nbformat": 4,
 "nbformat_minor": 2
}
