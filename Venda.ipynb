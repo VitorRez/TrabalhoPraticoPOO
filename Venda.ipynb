{
 "cells": [
  {
   "cell_type": "code",
   "execution_count": null,
   "metadata": {},
   "outputs": [],
   "source": [
    "from cliente.py import cliente\n",
    "from produto.py import produto\n",
    "from Entidade.py import Entidade\n",
    "\n",
    "class Venda(Entidade):\n",
    "    def __init__ (self, Quantidade = 0, Total = 0, IdProduto = 0):\n",
    "        self.Quantidade = Quantidade\n",
    "        self.Total = Total\n",
    "        self.IdProduto = IdProduto\n",
    "\n",
    "    def Qtd_Prod(self, Quantidade):\n",
    "        self.Quantidade = Quantidade\n",
    "\n",
    "    def Total_Valor(self, Total):\n",
    "        self.Total = Total\n",
    "            \n",
    "    def Codigo(self, IdProduto):\n",
    "        self.IdProduto = IdProduto\n",
    "\n",
    "    def retorna_Codigo(self):\n",
    "        return self.IdProduto\n",
    "\n",
    "    def retorna_Quantidade(self):\n",
    "        return self.Quantidade\n",
    "\n",
    "    def retorna_Total(self):\n",
    "        return self.Total"
   ]
  }
 ],
 "metadata": {
  "language_info": {
   "name": "python"
  },
  "orig_nbformat": 4
 },
 "nbformat": 4,
 "nbformat_minor": 2
}
